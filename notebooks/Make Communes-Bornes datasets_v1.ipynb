{
 "cells": [
  {
   "attachments": {},
   "cell_type": "markdown",
   "metadata": {},
   "source": [
    "# Contenu:\n",
    "\n",
    "[+] Données\n",
    "\n",
    "    + Chargement des open datas + sauvegarde locale\n",
    "\n",
    "    + Aggregation des tables:\n",
    "        * Bornes de charge:\n",
    "            + La table a une colonne, qui est sensée contenir les codes insee des communes, lors de la jointure ça ne colle pas...\n",
    "            + Solution retenue: spacial join pour affecter le code insee commune des bornes.POINT inscfits dans communes.0OLYGON\n",
    "            + Contenus agrégés dans des listes (accès aux carateristiques d'un point de charge par son index )\n",
    "            \n",
    "        * Pour les autres tables agregation sur code commune INSEE\n",
    "            + pour les données sur plusieurs années: min, median, max\n",
    "\n",
    "[+] Communes:\n",
    "\n",
    "    #   Column                   Non-Null Count   Dtype   \n",
    "    ---  ------                   --------------   -----   \n",
    "    0   insee                    314540 non-null  object   code insee commune\n",
    "    1   nom                      314540 non-null  object   \n",
    "    2   wikipedia                314504 non-null  object   quelques infos\n",
    "    3   surf_ha                  314540 non-null  float64 \n",
    "    4   geometry                 314540 non-null  geometry\n",
    "    5   PMUN                     314358 non-null  float64  population municipale\n",
    "    6   PCAP                     314358 non-null  float64  pop domiciliée mais n'habitant pas la commune\n",
    "    7   PTOT                     314358 non-null  float64  somme des deux précédents\n",
    "    8   nb_vp                    314535 non-null  float64  vp immat commune\n",
    "    9   libepci                  314535 non-null  object  \n",
    "    10  libgeo                   314535 non-null  object  \n",
    "    11  nb_vp_rechargeables_gaz  314535 non-null  float64 VG \n",
    "    12  date_arrete              314535 non-null  object  date du décompte (2021 à 2023)\n",
    "    13  epci                     314535 non-null  object  \n",
    "    14  nb_vp_rechargeables_el   314535 non-null  float64 VE \n",
    "    15  dep                      314540 non-null  object  \n",
    "    16  dep_name                 313379 non-null  object  \n",
    "    17  region_name              313379 non-null  object  \n",
    "    dtypes: float64(7), geometry(1), object(10)\n",
    "    memory usage: 45.6+ MB\n",
    "\n",
    "[+] Bornes\n",
    "\n",
    "    Int64Index: 55320 entries, 43292 to 36970\n",
    "    Data columns (total 53 columns):\n",
    "    #   Column                               Non-Null Count  Dtype              \n",
    "    ---  ------                               --------------  -----              \n",
    "    0   nom_amenageur                        55320 non-null  object             \n",
    "    1   siren_amenageur                      55320 non-null  object             \n",
    "    2   contact_amenageur                    55320 non-null  object             \n",
    "    3   nom_operateur                        55320 non-null  object             \n",
    "    4   contact_operateur                    55320 non-null  object             \n",
    "    5   telephone_operateur                  55320 non-null  object             \n",
    "    6   nom_enseigne                         55320 non-null  object             \n",
    "    7   id_station_itinerance                55320 non-null  object             \n",
    "    8   id_station_local                     55320 non-null  object             \n",
    "    9   nom_station                          55320 non-null  object             \n",
    "    10  implantation_station                 55320 non-null  object             \n",
    "    11  adresse_station                      55320 non-null  object             \n",
    "    12  code_insee_commune                   55320 non-null  object             \n",
    "    13  coordonneesXY                        55320 non-null  object             \n",
    "    14  nbre_pdc                             55320 non-null  float64            \n",
    "    15  id_pdc_itinerance                    55320 non-null  object             \n",
    "    16  id_pdc_local                         55320 non-null  object             \n",
    "    17  puissance_nominale                   55320 non-null  float64            \n",
    "    18  prise_type_ef                        55320 non-null  bool               \n",
    "    19  prise_type_2                         55320 non-null  bool               \n",
    "    20  prise_type_combo_ccs                 55320 non-null  bool               \n",
    "    21  prise_type_chademo                   55320 non-null  bool               \n",
    "    22  prise_type_autre                     55320 non-null  bool               \n",
    "    23  gratuit                              55320 non-null  bool               \n",
    "    24  paiement_acte                        55320 non-null  bool               \n",
    "    25  paiement_cb                          55320 non-null  bool               \n",
    "    26  paiement_autre                       55320 non-null  bool               \n",
    "    27  tarification                         55320 non-null  bool               \n",
    "    28  condition_acces                      55320 non-null  object             \n",
    "    29  reservation                          55320 non-null  bool               \n",
    "    30  horaires                             55320 non-null  object             \n",
    "    31  accessibilite_pmr                    55320 non-null  object             \n",
    "    32  restriction_gabarit                  55320 non-null  bool               \n",
    "    33  station_deux_roues                   55320 non-null  bool               \n",
    "    34  raccordement                         55320 non-null  object             \n",
    "    35  num_pdl                              55320 non-null  object             \n",
    "    36  date_mise_en_service                 55320 non-null  object             \n",
    "    37  observations                         55320 non-null  object             \n",
    "    38  date_maj                             55320 non-null  object             \n",
    "    39  cable_t2_attache                     55320 non-null  bool               \n",
    "    40  last_modified                        55320 non-null  datetime64[ns, UTC]\n",
    "    41  datagouv_dataset_id                  55320 non-null  object             \n",
    "    42  datagouv_resource_id                 55320 non-null  object             \n",
    "    43  datagouv_organization_or_owner       55320 non-null  object             \n",
    "    44  consolidated_longitude               55320 non-null  float64            \n",
    "    45  consolidated_latitude                55320 non-null  float64            \n",
    "    46  consolidated_code_postal             52433 non-null  object             \n",
    "    47  consolidated_commune                 55320 non-null  object             \n",
    "    48  consolidated_is_lon_lat_correct      55320 non-null  bool               \n",
    "    49  consolidated_is_code_insee_verified  55320 non-null  bool               \n",
    "    50  geometry                             55320 non-null  geometry           \n",
    "    51  insee                                55320 non-null  object             \n",
    "    52  dep                                  55320 non-null  object             \n",
    "    dtypes: bool(16), datetime64[ns, UTC](1), float64(4), geometry(1), object(31)\n",
    "    memory usage: 16.9+ MB"
   ]
  },
  {
   "cell_type": "code",
   "execution_count": null,
   "metadata": {},
   "outputs": [],
   "source": [
    "# from tqdm.notebook import tqdm\n",
    "from tqdm import tqdm\n",
    "\n",
    "import os\n",
    "os.environ['USE_PYGEOS'] = '0'\n",
    "\n",
    "# Data management\n",
    "import pandas as pd\n",
    "import geopandas as gpd\n",
    "import numpy as np\n",
    "\n",
    "\n",
    "# Visualisation\n",
    "import matplotlib.pyplot as plt\n",
    "import seaborn as sns\n",
    "import folium\n",
    "from folium.features import Choropleth\n",
    "from folium.plugins import MarkerCluster\n",
    "\n",
    "# Preprocessing\n",
    "from sklearn.preprocessing import StandardScaler\n",
    "import umap\n",
    "\n",
    "\n",
    "# I/O\n",
    "import gc\n",
    "import io, requests\n",
    "import zipfile, shutil\n",
    "import joblib\n",
    "\n",
    "tqdm().pandas()\n",
    "\n",
    "# data_path = 'C:/Users/demo/Desktop/Lattitude/datas/'\n",
    "data_path = 'datas'\n",
    "os.makedirs(data_path, exist_ok=True)"
   ]
  },
  {
   "attachments": {},
   "cell_type": "markdown",
   "metadata": {},
   "source": [
    "# Datas"
   ]
  },
  {
   "attachments": {},
   "cell_type": "markdown",
   "metadata": {},
   "source": [
    "## Bornes de recharge"
   ]
  },
  {
   "cell_type": "code",
   "execution_count": null,
   "metadata": {},
   "outputs": [],
   "source": [
    "file_name = 'consolidation-etalab-schema-irve-statique-v-2.2.0-20230327'\n",
    "ext = '.json'\n",
    "url = 'https://www.data.gouv.fr/fr/datasets/r/7eee8f09-5d1b-4f48-a304-5e99e8da1e26'\n",
    "\n",
    "try: \n",
    "    print('Loading data from local file...')\n",
    "    bornes = gpd.read_feather(os.path.join(data_path,file_name + '.feather'))\n",
    "    \n",
    "except:\n",
    "    print('Loading data from url...')\n",
    "    # from url\n",
    "    bornes = gpd.read_file( url)\n",
    "\n",
    "    # bornes = gpd.read_file(os.path.join(data_path,file_name + ext))\n",
    "    print('Saving data to local file...')\n",
    "    bornes.to_feather(os.path.join(data_path,file_name + '.feather'))\n",
    "\n",
    "display(bornes.info() )   "
   ]
  },
  {
   "cell_type": "code",
   "execution_count": null,
   "metadata": {},
   "outputs": [],
   "source": [
    "# Create a folium map centered on the first row of datas_\n",
    "centroid = list(bornes.iloc[0].geometry.centroid.coords[0])\n",
    "display(centroid, centroid[::-1])\n",
    "\n",
    "\n",
    "# create a folium map\n",
    "m = folium.Map(location=[*centroid[::-1]], zoom_start=7)#, crs='EPSG3857')\n",
    "display(m)\n",
    "del m"
   ]
  },
  {
   "cell_type": "code",
   "execution_count": null,
   "metadata": {},
   "outputs": [],
   "source": [
    "def convert_strings_bools(val):\n",
    "    if val.lower() == 'true':\n",
    "        return True\n",
    "    elif val.lower() == 'false':\n",
    "        return False\n",
    "    else:\n",
    "        return val\n",
    "    \n",
    "# find all columns that contain the string values 'True', 'true', 'False', or 'false',\n",
    "#  convert those values to boolean, and set the column type to boolean\n",
    "bool_columns = bornes.applymap(lambda x: isinstance(x, str) and x.lower() in ['true', 'false']).any()\n",
    "bornes.loc[:, bool_columns] = bornes.loc[:, bool_columns].applymap(convert_strings_bools).astype(bool)\n",
    "bornes.info()\n",
    "   "
   ]
  },
  {
   "cell_type": "code",
   "execution_count": null,
   "metadata": {},
   "outputs": [],
   "source": [
    "for col in bornes.select_dtypes(include='object').columns:\n",
    "    try :\n",
    "        bornes[col] = bornes[col].astype('float')\n",
    "    except ValueError:\n",
    "        continue\n",
    "\n",
    "bornes.info()"
   ]
  },
  {
   "attachments": {},
   "cell_type": "markdown",
   "metadata": {},
   "source": [
    "## Types de voitures"
   ]
  },
  {
   "cell_type": "code",
   "execution_count": null,
   "metadata": {},
   "outputs": [],
   "source": [
    "file_name = 'voitures-par-commune-par-energie'\n",
    "ext = '.geojson'\n",
    "url = 'http://opendata.agenceore.fr/explore/dataset/voitures-par-commune-par-energie/download?format=geojson&timezone=Europe/Berlin&use_labels_for_header=false'\n",
    "\n",
    "try: \n",
    "    print('Loading data from local file...')\n",
    "    cars = gpd.read_feather(os.path.join(data_path,file_name + '.feather'))\n",
    "except:\n",
    "    print('Loading data from url...')\n",
    "    # from url\n",
    "    s = requests.get(url).content\n",
    "    cars = gpd.read_file(io.StringIO(s.decode('utf-8')))\n",
    "\n",
    "    # avoiding multi dowloads for GES emmision lowering\n",
    "    print('Saving data to local file...')\n",
    "    cars.to_feather(os.path.join(data_path,file_name + '.feather'))\n",
    "\n",
    "print(cars.info())"
   ]
  },
  {
   "attachments": {},
   "cell_type": "markdown",
   "metadata": {},
   "source": [
    "## Découpage  Administratif\n"
   ]
  },
  {
   "cell_type": "code",
   "execution_count": null,
   "metadata": {},
   "outputs": [],
   "source": [
    "\n",
    "\n",
    "file_name = 'decoupage_administratif'\n",
    "ext = '.json'\n",
    "url ='https://www.data.gouv.fr/fr/datasets/r/fb3580f6-e875-408d-809a-ad22fc418581'\n",
    "# temp_path = 'temp_unzip'\n",
    "\n",
    "\n",
    "try: \n",
    "    print('Loading data from local file...')\n",
    "    decoupage = gpd.read_feather(os.path.join(data_path,file_name + '.feather'))\n",
    "except:\n",
    "    print('Loading data from url...')\n",
    "\n",
    "    s = requests.get(url).content\n",
    "    decoupage = pd.read_csv(io.StringIO(s.decode('utf-8')))\n",
    "    \n",
    "    print('Saving data to local file...')\n",
    "    decoupage.to_feather(os.path.join(data_path,file_name + '.feather'))\n",
    "\n",
    "decoupage.info()\n",
    "\n",
    "\n"
   ]
  },
  {
   "attachments": {},
   "cell_type": "markdown",
   "metadata": {},
   "source": [
    "## Departements et régions"
   ]
  },
  {
   "cell_type": "code",
   "execution_count": null,
   "metadata": {},
   "outputs": [],
   "source": [
    "file_name = 'depatements-regions'\n",
    "ext = '.csv'\n",
    "url ='https://www.data.gouv.fr/fr/datasets/r/987227fb-dcb2-429e-96af-8979f97c9c84'\n",
    "# temp_path = 'temp_unzip'\n",
    "\n",
    "\n",
    "try: \n",
    "    print('Loading data from local file...')\n",
    "    regions = pd.read_feather(os.path.join(data_path,file_name + '.feather'))\n",
    "except:\n",
    "    print('Loading data from url...')\n",
    "\n",
    "    s = requests.get(url).content\n",
    "    regions = pd.read_csv(io.StringIO(s.decode('utf-8')))\n",
    "    \n",
    "    print('Saving data to local file...')\n",
    "    regions.to_feather(os.path.join(data_path,file_name + '.feather'))\n",
    "\n",
    "regions.info()"
   ]
  },
  {
   "cell_type": "code",
   "execution_count": null,
   "metadata": {},
   "outputs": [],
   "source": [
    "file_name = 'communes-20220101'\n",
    "ext = '.shp'\n",
    "url ='https://www.data.gouv.fr/fr/datasets/r/0e117c06-248f-45e5-8945-0e79d9136165'\n",
    "temp_path = 'temp_unzip'\n",
    "\n",
    "\n",
    "try: \n",
    "    print('Loading data from local file...')\n",
    "    communes = gpd.read_feather(os.path.join(data_path,file_name + '.feather'))\n",
    "except:\n",
    "    print('Loading data from url...')\n",
    "    # Zip file from url  \n",
    "    zip_file = requests.get(url).content\n",
    "    os.makedirs(temp_path, exist_ok=True)\n",
    "    with zipfile.ZipFile(io.BytesIO(zip_file)) as archive:\n",
    "        archive.extractall(temp_path)\n",
    "    communes = gpd.read_file(os.path.join(temp_path,file_name + ext))   \n",
    "    shutil.rmtree(temp_path) \n",
    "    \n",
    "    print('Saving data to local file...')\n",
    "    communes.to_feather(os.path.join(data_path,file_name + '.feather'))\n",
    "\n",
    "communes.info()\n"
   ]
  },
  {
   "attachments": {},
   "cell_type": "markdown",
   "metadata": {},
   "source": [
    "# Données démographiques"
   ]
  },
  {
   "cell_type": "code",
   "execution_count": null,
   "metadata": {},
   "outputs": [],
   "source": [
    "\n",
    "\n",
    "\n",
    "file_name = 'Communes'\n",
    "ext = '.csv'\n",
    "url ='https://www.insee.fr/fr/statistiques/fichier/4265429/ensemble.zip'\n",
    "temp_path = 'temp_unzip'\n",
    "\n",
    "\n",
    "try: \n",
    "    print('Loading data from local file...')\n",
    "    pop_communes = pd.read_feather(os.path.join(data_path,file_name + '.feather'))\n",
    "except:\n",
    "    print('Loading data from url...')\n",
    "    # Zip file from url  \n",
    "    zip_file = requests.get(url).content\n",
    "    os.makedirs(temp_path, exist_ok=True)\n",
    "    with zipfile.ZipFile(io.BytesIO(zip_file)) as archive:\n",
    "        archive.extractall(temp_path)\n",
    "    pop_communes = pd.read_csv(os.path.join(temp_path,file_name + ext), sep=';')     \n",
    "    shutil.rmtree(temp_path) \n",
    "\n",
    "    # Rename the columns\n",
    "    pop_communes.rename(columns={'DEPCOM': 'insee'}, inplace=True)\n",
    "    \n",
    "    print('Saving data to local file...')\n",
    "    pop_communes.to_feather(os.path.join(data_path,file_name + '.feather'))\n",
    "\n",
    "pop_communes.info()\n"
   ]
  },
  {
   "attachments": {},
   "cell_type": "markdown",
   "metadata": {},
   "source": [
    "--------------------"
   ]
  },
  {
   "attachments": {},
   "cell_type": "markdown",
   "metadata": {},
   "source": [
    "# Join"
   ]
  },
  {
   "attachments": {},
   "cell_type": "markdown",
   "metadata": {},
   "source": [
    "## Communes and cars"
   ]
  },
  {
   "cell_type": "code",
   "execution_count": null,
   "metadata": {},
   "outputs": [],
   "source": [
    "display(cars.head(2), cars.shape, len(set(cars.codgeo)))"
   ]
  },
  {
   "cell_type": "code",
   "execution_count": null,
   "metadata": {},
   "outputs": [],
   "source": [
    "datas = communes.join(pop_communes.drop('COM',axis=1).set_index('insee'), \n",
    "                      on='insee',\n",
    "                      how='left', \n",
    "                      validate='1:1'\n",
    "                        )\\\n",
    "                .join(cars.rename(columns={'codgeo': 'insee'}).drop('geometry',axis=1).set_index('insee'), \n",
    "                      on='insee', \n",
    "                      how='left', \n",
    "                      # rsuffix='_cars',\n",
    "                      validate='1:m'\n",
    "                      )\\\n",
    "            #     .join(bornes.rename(columns={'consolidated_code_postal': 'insee'}).set_index('insee'), \n",
    "            #           on='insee', \n",
    "            #           how='left', \n",
    "            #           rsuffix='_bornes',\n",
    "            #           validate='m:m')\n",
    "\n",
    "del pop_communes            \n",
    "datas.info()"
   ]
  },
  {
   "attachments": {},
   "cell_type": "markdown",
   "metadata": {},
   "source": [
    "## regions"
   ]
  },
  {
   "attachments": {},
   "cell_type": "markdown",
   "metadata": {},
   "source": [
    "Création dep en prennant les deux premiers str de insee"
   ]
  },
  {
   "cell_type": "code",
   "execution_count": null,
   "metadata": {},
   "outputs": [],
   "source": [
    "datas['dep'] = datas['insee'].apply(lambda s : s[0:2])\n",
    "\n",
    "\n",
    "display(regions.head(2), regions.shape, len(set(datas.dep)))\n",
    "\n",
    "set(regions.num_dep) - set(datas.dep)"
   ]
  },
  {
   "cell_type": "code",
   "execution_count": null,
   "metadata": {},
   "outputs": [],
   "source": [
    "datas = datas.join(regions.rename(columns={'num_dep': 'dep'}).set_index('dep'), on='dep', how='left', validate='m:1')\n",
    "\n",
    "# del regions\n",
    "datas.info()"
   ]
  },
  {
   "attachments": {},
   "cell_type": "markdown",
   "metadata": {},
   "source": [
    "# Join bornes de charge"
   ]
  },
  {
   "cell_type": "code",
   "execution_count": null,
   "metadata": {},
   "outputs": [],
   "source": [
    "bornes.sort_values(by='date_mise_en_service', inplace=True)\n",
    "display(bornes.head(2), bornes.shape, len(set(bornes.consolidated_code_postal)))"
   ]
  },
  {
   "attachments": {},
   "cell_type": "markdown",
   "metadata": {},
   "source": [
    "55 320 bornes réparties sur seulement 3 119 communes\n",
    "\n",
    "en reprennant les codes insee et polygons de datas,  creation de insee dans bornes"
   ]
  },
  {
   "cell_type": "code",
   "execution_count": null,
   "metadata": {},
   "outputs": [],
   "source": [
    "# Convert the GeoDataFrames to a dask DataFrame\n",
    "com_ = communes[['insee','geometry']]\n",
    "bor_ = bornes[['consolidated_code_postal','geometry']]\n",
    "\n",
    "\n",
    "# display(com_.shape[0], bor_.shape[0])\n",
    "\n",
    "bornes['insee'] = gpd.sjoin(com_, bor_,  how='right', predicate='contains',lsuffix='_com', rsuffix='_bor')['insee'].astype(str)\n"
   ]
  },
  {
   "cell_type": "code",
   "execution_count": null,
   "metadata": {},
   "outputs": [],
   "source": [
    "# Add dep, dep_name, region_name\n",
    "\n",
    "bornes['dep'] = bornes['insee'].apply(lambda s : s[0:2])\n",
    "\n",
    "bornes = bornes.join(regions.rename(columns={'num_dep': 'dep'}).set_index('dep'), on='dep', how='left', validate='m:1')\n",
    "\n",
    "\n",
    "\n",
    "# del regions, communes, com_, bor_\n",
    "bornes.info()"
   ]
  },
  {
   "cell_type": "code",
   "execution_count": null,
   "metadata": {},
   "outputs": [],
   "source": [
    "# check Nan\n",
    "bornes[bornes.insee.isna()].consolidated_is_lon_lat_correct.value_counts()"
   ]
  },
  {
   "attachments": {},
   "cell_type": "markdown",
   "metadata": {},
   "source": [
    "------------------------------------------------"
   ]
  },
  {
   "attachments": {},
   "cell_type": "markdown",
   "metadata": {},
   "source": [
    "# Save to local"
   ]
  },
  {
   "cell_type": "code",
   "execution_count": null,
   "metadata": {},
   "outputs": [],
   "source": [
    "# save datas\n",
    "file_name = 'dataset_communes'\n",
    "print('Saving datas to local file...')\n",
    "# datas.to_file(os.path.join(data_path,file_name + '.geojson'), driver='GeoJSON') # > 5 Go\n",
    "# datas.to_parquet(os.path.join(data_path,file_name + '.parquet')) # 1.5 Go\n",
    "datas.to_feather(os.path.join(data_path,file_name + '.feather'), compression='zstd') # 420 Mo"
   ]
  },
  {
   "cell_type": "code",
   "execution_count": null,
   "metadata": {},
   "outputs": [],
   "source": [
    "# save bornes\n",
    "file_name = 'dataset_charge_points'\n",
    "print('Saving bornes to local file...')\n",
    "bornes.to_feather(os.path.join(data_path,file_name + '.feather'), compression='zstd')"
   ]
  },
  {
   "cell_type": "code",
   "execution_count": null,
   "metadata": {},
   "outputs": [],
   "source": []
  }
 ],
 "metadata": {
  "kernelspec": {
   "display_name": "base",
   "language": "python",
   "name": "python3"
  },
  "language_info": {
   "codemirror_mode": {
    "name": "ipython",
    "version": 3
   },
   "file_extension": ".py",
   "mimetype": "text/x-python",
   "name": "python",
   "nbconvert_exporter": "python",
   "pygments_lexer": "ipython3",
   "version": "3.9.16"
  },
  "orig_nbformat": 4
 },
 "nbformat": 4,
 "nbformat_minor": 2
}
