{
 "cells": [
  {
   "cell_type": "code",
   "execution_count": null,
   "metadata": {},
   "outputs": [],
   "source": [
    "import requests\n",
    "import json"
   ]
  },
  {
   "cell_type": "code",
   "execution_count": null,
   "metadata": {},
   "outputs": [],
   "source": [
    "def load_communes():\n",
    "    try:\n",
    "        response = requests.get(\"https://geo.api.gouv.fr/communes\")\n",
    "        if response.status_code != 200:\n",
    "            raise Exception(f\"Error when querying geo.api.gouv.fr: {response.status_code}\")\n",
    "        data = json.loads(response.content)\n",
    "        return data\n",
    "    except Exception as e:\n",
    "        raise e"
   ]
  },
  {
   "cell_type": "code",
   "execution_count": null,
   "metadata": {},
   "outputs": [],
   "source": [
    "communes = load_communes()"
   ]
  },
  {
   "cell_type": "code",
   "execution_count": null,
   "metadata": {},
   "outputs": [],
   "source": [
    "departements = sorted(list(set(c[\"codeDepartement\"] for c in communes)))"
   ]
  },
  {
   "cell_type": "code",
   "execution_count": null,
   "metadata": {},
   "outputs": [],
   "source": [
    "def load_dept_geojson(codeDept):\n",
    "    try:\n",
    "        resp = requests.get(f\"https://geo.api.gouv.fr/departements/{codeDept}/communes?format=geojson&geometry=contour\")\n",
    "        if not resp.status_code == 200:\n",
    "            raise Exception(f\"Error when querying geo.api.gouv.fr: {resp.status_code}\")\n",
    "        data = json.loads(resp.content)\n",
    "        return data\n",
    "    except Exception as e:\n",
    "        raise e"
   ]
  },
  {
   "cell_type": "code",
   "execution_count": null,
   "metadata": {},
   "outputs": [],
   "source": [
    "communes_geojson = [load_dept_geojson(d) for d in departements]"
   ]
  },
  {
   "cell_type": "code",
   "execution_count": null,
   "metadata": {},
   "outputs": [],
   "source": [
    "communes_geojson[3]"
   ]
  },
  {
   "cell_type": "code",
   "execution_count": null,
   "metadata": {},
   "outputs": [],
   "source": [
    "# Aggregate in one GeoJSON\n",
    "\n",
    "all_features = [feature for c in communes_geojson for feature in c[\"features\"]]"
   ]
  },
  {
   "cell_type": "code",
   "execution_count": null,
   "metadata": {},
   "outputs": [],
   "source": [
    "all_features[:4]"
   ]
  },
  {
   "cell_type": "code",
   "execution_count": null,
   "metadata": {},
   "outputs": [],
   "source": [
    "\n",
    "all_communes_geojson = {\n",
    "    \"type\": 'FeatureCollection',\n",
    "    \"features\": all_features\n",
    "}"
   ]
  },
  {
   "attachments": {},
   "cell_type": "markdown",
   "metadata": {},
   "source": [
    "# Display polygons on the map"
   ]
  },
  {
   "cell_type": "code",
   "execution_count": null,
   "metadata": {},
   "outputs": [],
   "source": [
    "import folium"
   ]
  },
  {
   "cell_type": "code",
   "execution_count": null,
   "metadata": {},
   "outputs": [],
   "source": [
    "m = folium.Map(location=[48.85341,2.3488], zoom_start=7)"
   ]
  },
  {
   "cell_type": "code",
   "execution_count": null,
   "metadata": {},
   "outputs": [],
   "source": [
    "# TODO better graphics (different color per commune, finer line between polygons, tooltip when hovering over commune?)\n",
    "\n",
    "folium.GeoJson(all_communes_geojson).add_to(m)"
   ]
  },
  {
   "cell_type": "code",
   "execution_count": null,
   "metadata": {},
   "outputs": [],
   "source": [
    "# WARNING this will require lots of memory\n",
    "\n",
    "m"
   ]
  },
  {
   "cell_type": "code",
   "execution_count": null,
   "metadata": {},
   "outputs": [],
   "source": []
  }
 ],
 "metadata": {
  "kernelspec": {
   "display_name": "venv",
   "language": "python",
   "name": "python3"
  },
  "language_info": {
   "codemirror_mode": {
    "name": "ipython",
    "version": 3
   },
   "file_extension": ".py",
   "mimetype": "text/x-python",
   "name": "python",
   "nbconvert_exporter": "python",
   "pygments_lexer": "ipython3",
   "version": "3.10.10"
  },
  "orig_nbformat": 4,
  "vscode": {
   "interpreter": {
    "hash": "03b15fab1a8b98f51b2963840955ca95c8af9b903a501dcc004c03dc4f32ba4d"
   }
  }
 },
 "nbformat": 4,
 "nbformat_minor": 2
}
